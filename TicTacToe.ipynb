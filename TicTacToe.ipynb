{
  "nbformat": 4,
  "nbformat_minor": 0,
  "metadata": {
    "colab": {
      "provenance": [],
      "authorship_tag": "ABX9TyPuG78fgCPszj/UhaGi8hpp",
      "include_colab_link": true
    },
    "kernelspec": {
      "name": "python3",
      "display_name": "Python 3"
    },
    "language_info": {
      "name": "python"
    }
  },
  "cells": [
    {
      "cell_type": "markdown",
      "metadata": {
        "id": "view-in-github",
        "colab_type": "text"
      },
      "source": [
        "<a href=\"https://colab.research.google.com/github/raunakyadav92/TicTacToe/blob/main/TicTacToe.ipynb\" target=\"_parent\"><img src=\"https://colab.research.google.com/assets/colab-badge.svg\" alt=\"Open In Colab\"/></a>"
      ]
    },
    {
      "cell_type": "code",
      "execution_count": null,
      "metadata": {
        "colab": {
          "base_uri": "https://localhost:8080/"
        },
        "id": "StO3CN7Q8CO6",
        "outputId": "aeb8f7ca-acfd-488d-c947-f62d95220008"
      },
      "outputs": [
        {
          "output_type": "stream",
          "name": "stdout",
          "text": [
            "Welcome to Tic Tac Toe!\n",
            "\n",
            "\n",
            "  |   |  \n",
            "-----\n",
            "  |   |  \n",
            "-----\n",
            "  |   |  \n",
            "-----\n",
            "\n",
            "\n"
          ]
        }
      ],
      "source": [
        "def print_board(board):\n",
        "    print(\"\\n\")\n",
        "    for row in board:\n",
        "        print(\" | \".join(row))\n",
        "        print(\"-\" * 5)\n",
        "    print(\"\\n\")\n",
        "\n",
        "def check_winner(board, player):\n",
        "    # Check rows and columns\n",
        "    for i in range(3):\n",
        "        if all([cell == player for cell in board[i]]) or \\\n",
        "           all([board[j][i] == player for j in range(3)]):\n",
        "            return True\n",
        "    # Check diagonals\n",
        "    if board[0][0] == board[1][1] == board[2][2] == player or \\\n",
        "       board[0][2] == board[1][1] == board[2][0] == player:\n",
        "        return True\n",
        "    return False\n",
        "\n",
        "def is_full(board):\n",
        "    return all([cell != \" \" for row in board for cell in row])\n",
        "\n",
        "def main():\n",
        "    board = [[\" \" for _ in range(3)] for _ in range(3)]\n",
        "    current_player = \"X\"\n",
        "\n",
        "    print(\"Welcome to Tic Tac Toe!\")\n",
        "    print_board(board)\n",
        "\n",
        "    while True:\n",
        "        try:\n",
        "            row = int(input(f\"Player {current_player}, enter row (1-3): \")) - 1\n",
        "            col = int(input(f\"Player {current_player}, enter column (1-3): \")) - 1\n",
        "\n",
        "            if board[row][col] != \" \":\n",
        "                print(\"Cell already taken! Choose another.\")\n",
        "                continue\n",
        "\n",
        "            board[row][col] = current_player\n",
        "            print_board(board)\n",
        "\n",
        "            if check_winner(board, current_player):\n",
        "                print(f\"Congratulations! Player {current_player} wins!\")\n",
        "                break\n",
        "\n",
        "            if is_full(board):\n",
        "                print(\"It's a draw!\")\n",
        "                break\n",
        "\n",
        "            current_player = \"O\" if current_player == \"X\" else \"X\"\n",
        "        except (IndexError, ValueError):\n",
        "            print(\"Invalid input! Please enter numbers between 1 and 3.\")\n",
        "\n",
        "if __name__ == \"__main__\":\n",
        "    main()\n"
      ]
    }
  ]
}